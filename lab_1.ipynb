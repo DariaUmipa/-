{
  "nbformat": 4,
  "nbformat_minor": 0,
  "metadata": {
    "colab": {
      "provenance": [],
      "authorship_tag": "ABX9TyM34S7rnXB94v6nA/vKPnmN",
      "include_colab_link": true
    },
    "kernelspec": {
      "name": "python3",
      "display_name": "Python 3"
    },
    "language_info": {
      "name": "python"
    }
  },
  "cells": [
    {
      "cell_type": "markdown",
      "metadata": {
        "id": "view-in-github",
        "colab_type": "text"
      },
      "source": [
        "<a href=\"https://colab.research.google.com/github/DariaUmipa/-/blob/main/lab_1.ipynb\" target=\"_parent\"><img src=\"https://colab.research.google.com/assets/colab-badge.svg\" alt=\"Open In Colab\"/></a>"
      ]
    },
    {
      "cell_type": "code",
      "execution_count": null,
      "metadata": {
        "id": "IuIiTraPKFTr"
      },
      "outputs": [],
      "source": []
    },
    {
      "cell_type": "markdown",
      "source": [],
      "metadata": {
        "id": "RgYcFzfmKO_m"
      }
    },
    {
      "cell_type": "code",
      "source": [
        "x=10\n",
        "y=30.67\n",
        "a=5\n",
        "k_to=5\n",
        "print(\"x = \", x, \", type(x) = \", type(x))\n",
        "print(\"y = \", y, \", type(y) = \", type(y))\n",
        "print(\"k_to = \", k_to, \", type(k_to) = \", type(k_to))\n",
        "print(\"a = \", a, \", type(a) = \", type(a))"
      ],
      "metadata": {
        "id": "JCj1Uiq2KH7o",
        "colab": {
          "base_uri": "https://localhost:8080/"
        },
        "outputId": "3599d141-d4b2-48ba-8cbe-7975954c9a22"
      },
      "execution_count": null,
      "outputs": [
        {
          "output_type": "stream",
          "name": "stdout",
          "text": [
            "x =  10 , type(x) =  <class 'int'>\n",
            "y =  30.67 , type(y) =  <class 'float'>\n",
            "k_to =  5 , type(k_to) =  <class 'int'>\n",
            "a =  5 , type(a) =  <class 'int'>\n"
          ]
        }
      ]
    },
    {
      "cell_type": "code",
      "source": [
        "Z=(x**y-x**(1/3))/(a*(k_to+120*abs(x-y)))\n",
        "print('Z=',Z)\n",
        "print('Type of Z: ', type(Z))"
      ],
      "metadata": {
        "colab": {
          "base_uri": "https://localhost:8080/"
        },
        "id": "gF-uhGMvwaOX",
        "outputId": "f4dff654-5514-4059-c63c-4325e43d08ae"
      },
      "execution_count": null,
      "outputs": [
        {
          "output_type": "stream",
          "name": "stdout",
          "text": [
            "Z= 3.76386208487326e+26\n",
            "Type of Z:  <class 'float'>\n"
          ]
        }
      ]
    },
    {
      "cell_type": "code",
      "source": [
        "g=10\n",
        "h=5.5\n",
        "b=7\n",
        "q3=3.5\n",
        "x=11\n",
        "y=8\n",
        "w=4\n",
        "print(\"g = \", g, \", type(g) = \", type(g))\n",
        "print(\"h = \", h, \", type(h) = \", type(h))\n",
        "print(\"b = \", b, \", type(b) = \", type(b))\n",
        "print(\"q3 = \", q3, \", type(q3) = \", type(q3))\n",
        "print(\"x = \", x, \", type(x) = \", type(x))\n",
        "print(\"y = \", y, \", type(y) = \", type(y))\n",
        "print(\"w = \", w, \", type(w) = \", type(w))"
      ],
      "metadata": {
        "id": "8T_Vrfpcz67g",
        "colab": {
          "base_uri": "https://localhost:8080/"
        },
        "outputId": "59a73edc-1de7-4f73-f2b7-b1d6db579698"
      },
      "execution_count": null,
      "outputs": [
        {
          "output_type": "stream",
          "name": "stdout",
          "text": [
            "g =  10 , type(g) =  <class 'int'>\n",
            "h =  5.5 , type(h) =  <class 'float'>\n",
            "b =  7 , type(b) =  <class 'int'>\n",
            "q3 =  3.5 , type(q3) =  <class 'float'>\n",
            "x =  11 , type(x) =  <class 'int'>\n",
            "y =  8 , type(y) =  <class 'int'>\n",
            "w =  4 , type(w) =  <class 'int'>\n"
          ]
        }
      ]
    },
    {
      "cell_type": "code",
      "source": [
        "c =  (g*h) + (b*q3) - x + y/w\n",
        "print('c=',c)\n",
        "print('Type of c: ', type(c))"
      ],
      "metadata": {
        "colab": {
          "base_uri": "https://localhost:8080/"
        },
        "id": "mdx5d4rGe6YG",
        "outputId": "3a40e0bc-2883-4345-848d-12314af8ddd1"
      },
      "execution_count": null,
      "outputs": [
        {
          "output_type": "stream",
          "name": "stdout",
          "text": [
            "c= 70.5\n",
            "Type of c:  <class 'float'>\n"
          ]
        }
      ]
    },
    {
      "cell_type": "code",
      "source": [
        "# Вывод информации о студенте\n",
        "\n",
        "print(\"ФИО: Иванов Иван Иванович\")\n",
        "print(\"Группа: ИТ-21\")\n",
        "print(\"Шифр специальности: 09.03.01\")\n",
        "print(\"Перечень языков программирования и ИТ-технологий: Python, JavaScript, Machine Learning, DevOps, Cloud Computing\")\n",
        "print(\"Краткое описание личных увлечений, хобби, интересов: Я увлекаюсь спортом, особенно футболом. Люблю читать книги по саморазвитию и смотреть научно-популярные программы. Также увлекаюсь путешествиями и изучением разных культур.\")"
      ],
      "metadata": {
        "id": "NGkTAwACkqxS",
        "outputId": "b6d20cb7-626d-4be9-f52b-9b0833352a12",
        "colab": {
          "base_uri": "https://localhost:8080/"
        }
      },
      "execution_count": null,
      "outputs": [
        {
          "output_type": "stream",
          "name": "stdout",
          "text": [
            "ФИО: Иванов Иван Иванович\n",
            "Группа: ИТ-21\n",
            "Шифр специальности: 09.03.01\n",
            "Перечень языков программирования и ИТ-технологий: Python, JavaScript, Machine Learning, DevOps, Cloud Computing\n",
            "Краткое описание личных увлечений, хобби, интересов: Я увлекаюсь спортом, особенно футболом. Люблю читать книги по саморазвитию и смотреть научно-популярные программы. Также увлекаюсь путешествиями и изучением разных культур.\n"
          ]
        }
      ]
    }
  ]
}